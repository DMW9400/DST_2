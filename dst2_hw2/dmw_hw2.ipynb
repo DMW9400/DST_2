{
 "cells": [
  {
   "cell_type": "code",
   "execution_count": null,
   "metadata": {},
   "outputs": [],
   "source": [
    "# Fractional Delay Line\n",
    "\n",
    "from scipy import signal\n",
    "from scipy.fftpack import fft, ifft\n",
    "import numpy as np\n",
    "\n",
    "from IPython.display import Audio \n",
    "import soundfile as sf\n",
    "\n",
    "maxDelay = 3000\n",
    "x, Fs = sf.read(\"hw2_audio.wav\")\n",
    "circularBuffer = np.zeros(maxDelay)\n",
    "writeIndex = 0\n",
    "readIndex = 0\n",
    "\n",
    "sampleRate = 44100\n",
    "def fractionalDelay(delaySize, feedback, gain, inputSample):\n",
    "\n",
    "    return 0\n"
   ]
  },
  {
   "cell_type": "code",
   "execution_count": null,
   "metadata": {},
   "outputs": [],
   "source": []
  }
 ],
 "metadata": {
  "kernelspec": {
   "display_name": "Python 3",
   "language": "python",
   "name": "python3"
  },
  "language_info": {
   "codemirror_mode": {
    "name": "ipython",
    "version": 3
   },
   "file_extension": ".py",
   "mimetype": "text/x-python",
   "name": "python",
   "nbconvert_exporter": "python",
   "pygments_lexer": "ipython3",
   "version": "3.13.0"
  }
 },
 "nbformat": 4,
 "nbformat_minor": 2
}
