{
 "cells": [
  {
   "cell_type": "code",
   "execution_count": null,
   "id": "b478a7da-c6af-497a-8346-204fe21e504f",
   "metadata": {},
   "outputs": [],
   "source": [
    "# General\n",
    "import numpy as np\n",
    "\n",
    "# Signal Processing\n",
    "from scipy import signal\n",
    "from scipy.fftpack import fft, ifft\n",
    "\n",
    "# Audio IO\n",
    "from IPython.display import Audio \n",
    "import soundfile as sf\n",
    "\n",
    "# Plotting\n",
    "import matplotlib.pyplot as plt"
   ]
  },
  {
   "cell_type": "code",
   "execution_count": null,
   "id": "94f8e4fb-e561-44db-8d33-da8be9e8a902",
   "metadata": {},
   "outputs": [],
   "source": [
    "x, Fs = sf.read(\"bad_audio.wav\")\n",
    "\n",
    "Audio(x, rate = Fs)"
   ]
  },
  {
   "cell_type": "code",
   "execution_count": null,
   "id": "076fe167-1675-4658-9e33-2a3d4e4015ee",
   "metadata": {},
   "outputs": [],
   "source": [
    "# implement 2nd order peaking filter to remove 573Hz tone here\n",
    "\n"
   ]
  },
  {
   "cell_type": "code",
   "execution_count": null,
   "id": "310fbfda-15fc-408d-ba50-8b7bf4c21e32",
   "metadata": {},
   "outputs": [],
   "source": [
    "# implement 2nd order high shelf filter to remove >14kHz noise here\n",
    "\n"
   ]
  },
  {
   "cell_type": "code",
   "execution_count": null,
   "id": "4f05f0e3-04d7-4d66-8bf8-7f7b41406fbd",
   "metadata": {},
   "outputs": [],
   "source": [
    "Audio(y, rate = Fs)"
   ]
  }
 ],
 "metadata": {
  "kernelspec": {
   "display_name": "Python 3 (ipykernel)",
   "language": "python",
   "name": "python3"
  },
  "language_info": {
   "codemirror_mode": {
    "name": "ipython",
    "version": 3
   },
   "file_extension": ".py",
   "mimetype": "text/x-python",
   "name": "python",
   "nbconvert_exporter": "python",
   "pygments_lexer": "ipython3",
   "version": "3.12.7"
  }
 },
 "nbformat": 4,
 "nbformat_minor": 5
}
